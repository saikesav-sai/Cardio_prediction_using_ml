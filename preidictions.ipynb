{
 "cells": [
  {
   "cell_type": "code",
   "execution_count": 18,
   "metadata": {},
   "outputs": [],
   "source": [
    "import joblib\n",
    "import pandas as pd\n",
    "from sklearn.preprocessing import StandardScaler"
   ]
  },
  {
   "cell_type": "code",
   "execution_count": 19,
   "metadata": {},
   "outputs": [],
   "source": [
    "\n",
    "# Load the saved model\n",
    "final_rf_model = joblib.load('final_rf_model.pkl')\n",
    "\n",
    "# Sample new row (make sure it's in the same format as the training data)\n",
    "new_data = {\n",
    "    'age': [63],\n",
    "    'trestbps': [145],\n",
    "    'chol': [233],\n",
    "    'fbs': [1],\n",
    "    'thalach': [150],\n",
    "    'oldpeak': [2.3],\n",
    "    'sex': [1],  # sex encoded\n",
    "    'cp': [3],   # cp encoded\n",
    "    'restecg': [0],  # restecg encoded\n",
    "    'exang': [0],  # exang encoded\n",
    "    'slope': [0],  # slope encoded\n",
    "    'ca': [0],     # ca encoded\n",
    "    'thal': [1]    # thal encoded\n",
    "}\n",
    "\n",
    "# Convert the new data into a DataFrame\n",
    "new_data_df = pd.DataFrame(new_data)"
   ]
  },
  {
   "cell_type": "code",
   "execution_count": 20,
   "metadata": {},
   "outputs": [],
   "source": [
    "\n",
    "# One-hot encode categorical variables (same as during training)\n",
    "new_data_encoded = pd.get_dummies(new_data_df, columns=['sex', 'cp', 'restecg', 'exang', 'slope', 'ca', 'thal'])\n",
    "\n",
    "# Scale the features (same as during training)\n",
    "scaler = StandardScaler()\n",
    "features_to_scale = ['age', 'trestbps', 'chol', 'thalach', 'oldpeak']\n",
    "new_data_encoded[features_to_scale] = scaler.fit_transform(new_data_encoded[features_to_scale])"
   ]
  },
  {
   "cell_type": "code",
   "execution_count": 21,
   "metadata": {},
   "outputs": [],
   "source": [
    "# Define the original columns from your training data (or reload them if necessary)\n",
    "# If you don't have `X` available, you can manually list the columns:\n",
    "training_columns = ['age', 'trestbps', 'chol', 'fbs', 'thalach', 'oldpeak', 'sex_0', 'sex_1', 'cp_0', 'cp_1', \n",
    "                    'cp_2', 'cp_3', 'restecg_0', 'restecg_1', 'restecg_2', 'exang_0', 'exang_1', 'slope_0', \n",
    "                    'slope_1', 'slope_2', 'ca_0', 'ca_1', 'ca_2', 'ca_3', 'ca_4', 'thal_0', 'thal_1', 'thal_2', \n",
    "                    'thal_3']"
   ]
  },
  {
   "cell_type": "code",
   "execution_count": 22,
   "metadata": {},
   "outputs": [],
   "source": [
    "\n",
    "# Ensure the new data has the same columns as the training data (align column names)\n",
    "new_data_encoded = new_data_encoded.reindex(columns=training_columns, fill_value=0)"
   ]
  },
  {
   "cell_type": "code",
   "execution_count": 23,
   "metadata": {},
   "outputs": [
    {
     "name": "stdout",
     "output_type": "stream",
     "text": [
      "Prediction for the new row: 1\n"
     ]
    }
   ],
   "source": [
    "\n",
    "# Make prediction using the loaded model\n",
    "prediction = final_rf_model.predict(new_data_encoded)\n",
    "\n",
    "# Output the prediction (0 or 1 for target)\n",
    "print(f\"Prediction for the new row: {prediction[0]}\")"
   ]
  }
 ],
 "metadata": {
  "kernelspec": {
   "display_name": "conda_env_for_project",
   "language": "python",
   "name": "python3"
  },
  "language_info": {
   "codemirror_mode": {
    "name": "ipython",
    "version": 3
   },
   "file_extension": ".py",
   "mimetype": "text/x-python",
   "name": "python",
   "nbconvert_exporter": "python",
   "pygments_lexer": "ipython3",
   "version": "3.10.14"
  }
 },
 "nbformat": 4,
 "nbformat_minor": 2
}
